{
 "cells": [
  {
   "cell_type": "code",
   "execution_count": 1,
   "metadata": {},
   "outputs": [],
   "source": [
    "# Creating file with only Auth, Assoc, and Deauth keywords\n",
    "# REPLACE FILE NAMES AS NEEDED\n",
    "with open('wireless_01-01-2021.log', 'r') as cleaned_test_file, open('cleaned_test_file2.txt', 'a') as cleaned_test_file2:    \n",
    "    unwanted_strings = \" wifi_deauth_sta\"+\" Response to EAP Challenge Failed\"+\" APAE Disconnect\"+\" handle_sapcp\"+\" Sapcp Ageout (internal ageout) \"+\" Capability requested by STA unsupported by AP\"+\" STA has roamed to another AP\"\n",
    "    \n",
    "    for line in cleaned_test_file.readlines():\n",
    "        # Getting only Auth and Assoc lines\n",
    "        if \"success\" in line:\n",
    "            cleaned_test_file2.write(line)\n",
    "        \n",
    "        # Getting Deauth lines\n",
    "        if \"Deauth\" in line:\n",
    "            newstring = line.replace(\"Ageout \", \"\")\n",
    "            cleaned_test_file2.write(newstring.strip(unwanted_strings + \"\\n\") + \"\\n\")"
   ]
  },
  {
   "cell_type": "code",
   "execution_count": 12,
   "metadata": {},
   "outputs": [],
   "source": [
    "# Matching Access Points in Auth, Assoc, and Deauth lines; Removing lines w/ repeating Access Points\n",
    "with open('cleaned_test_file2.txt', 'r') as cleaned_test_file2, open('cleaned_test_file5.txt', 'a') as cleaned_test_file5:\n",
    "    mac_ip_list = []\n",
    "    temp_mac_ip_list = []\n",
    "    line_array = []\n",
    "    \n",
    "    for line in cleaned_test_file2.readlines():\n",
    "        # Getting Auth lines\n",
    "        if \"Auth s\" in line:\n",
    "            line_words = line.split()\n",
    "            mac_and_IP_auth = line_words[-3] + ' AP ' + line_words[-1]\n",
    "            \n",
    "            # Conditions to get Auth lines (preventing repeats of same Auth lines)\n",
    "            if mac_and_IP_auth not in temp_mac_ip_list:\n",
    "                temp_mac_ip_list.append(mac_and_IP_auth)\n",
    "                line_array.append(line)\n",
    "                \n",
    "        # Getting Assoc lines\n",
    "        if \"Assoc\" in line:\n",
    "            line_words = line.split()\n",
    "            mac_and_IP_assoc = line_words[-3] + ' AP ' + line_words[-1]\n",
    "                    \n",
    "            # Preventing repeats of same Assoc lines, and matching to corresponding Auth lines\n",
    "            if mac_and_IP_assoc in temp_mac_ip_list and mac_and_IP_assoc not in mac_ip_list:\n",
    "                line_index = temp_mac_ip_list.index(mac_and_IP_assoc)\n",
    "                auth_line = line_array[line_index]\n",
    "                \n",
    "                cleaned_test_file5.write(auth_line)\n",
    "                cleaned_test_file5.write(line)\n",
    "                mac_ip_list.append(mac_and_IP_assoc)\n",
    "                \n",
    "        # Getting Deauth lines\n",
    "        if \"Deauth\" in line:\n",
    "            line_words = line.split()\n",
    "            mac_and_IP = line_words[-3] + ' AP ' + line_words[-1]\n",
    "            \n",
    "            # Getting Deauth lines only if there are Auth and Deauth lines\n",
    "            if mac_and_IP in mac_ip_list:\n",
    "                line_index = temp_mac_ip_list.index(mac_and_IP)\n",
    "                \n",
    "                # After Deauth, stored info no longer needed for later usage\n",
    "                temp_mac_ip_list.remove(mac_and_IP)\n",
    "                line_array.remove(line_array[line_index])       \n",
    "                mac_ip_list.remove(mac_and_IP)\n",
    "                \n",
    "                cleaned_test_file5.write(line)"
   ]
  },
  {
   "cell_type": "code",
   "execution_count": null,
   "metadata": {},
   "outputs": [],
   "source": []
  }
 ],
 "metadata": {
  "kernelspec": {
   "display_name": "Python 3",
   "language": "python",
   "name": "python3"
  },
  "language_info": {
   "codemirror_mode": {
    "name": "ipython",
    "version": 3
   },
   "file_extension": ".py",
   "mimetype": "text/x-python",
   "name": "python",
   "nbconvert_exporter": "python",
   "pygments_lexer": "ipython3",
   "version": "3.8.5"
  }
 },
 "nbformat": 4,
 "nbformat_minor": 4
}
