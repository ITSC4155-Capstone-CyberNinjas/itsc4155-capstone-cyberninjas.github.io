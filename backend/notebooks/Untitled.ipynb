{
 "cells": [
  {
   "cell_type": "code",
   "execution_count": 2,
   "id": "641bd450-1b56-4831-90d4-105aea5f3f30",
   "metadata": {},
   "outputs": [
    {
     "name": "stdout",
     "output_type": "stream",
     "text": [
      "Defaulting to user installation because normal site-packages is not writeable\n",
      "Collecting folium\n",
      "  Downloading folium-0.13.0-py2.py3-none-any.whl (96 kB)\n",
      "\u001b[2K     \u001b[38;2;114;156;31m━━━━━━━━━━━━━━━━━━━━━━━━━━━━━━━━━━━━━━━\u001b[0m \u001b[32m96.5/96.5 KB\u001b[0m \u001b[31m869.8 kB/s\u001b[0m eta \u001b[36m0:00:00\u001b[0m1m745.4 kB/s\u001b[0m eta \u001b[36m0:00:01\u001b[0m\n",
      "\u001b[?25hRequirement already satisfied: jinja2>=2.9 in /home/calvinhathcock/.local/lib/python3.10/site-packages (from folium) (3.1.2)\n",
      "Requirement already satisfied: requests in /usr/lib/python3/dist-packages (from folium) (2.25.1)\n",
      "Requirement already satisfied: numpy in /home/calvinhathcock/.local/lib/python3.10/site-packages (from folium) (1.23.2)\n",
      "Collecting branca>=0.3.0\n",
      "  Downloading branca-0.6.0-py3-none-any.whl (24 kB)\n",
      "Requirement already satisfied: MarkupSafe>=2.0 in /home/calvinhathcock/.local/lib/python3.10/site-packages (from jinja2>=2.9->folium) (2.1.1)\n",
      "Installing collected packages: branca, folium\n",
      "Successfully installed branca-0.6.0 folium-0.13.0\n"
     ]
    }
   ],
   "source": [
    "!pip install folium"
   ]
  },
  {
   "cell_type": "code",
   "execution_count": 4,
   "id": "644d78fa-d239-47d4-9e84-ed4ff91aabe0",
   "metadata": {},
   "outputs": [],
   "source": [
    "import folium\n",
    "from folium import plugins\n",
    "import pandas as pd\n",
    "from folium.plugins import HeatMap\n",
    "import folium.plugins as plugins\n",
    "from folium.plugins import HeatMapWithTime\n",
    "from folium.plugins import Search\n",
    "\n",
    "import os"
   ]
  },
  {
   "cell_type": "code",
   "execution_count": 6,
   "id": "410bce45-9fd1-4e08-b26e-e25257568bfc",
   "metadata": {},
   "outputs": [],
   "source": [
    "os.chdir('/home/calvinhathcock/Documents/College/UNCC/Fall 2022/ITSC 4155/Project/Frontend/itsc4155-capstone-cyberninjas.github.io')"
   ]
  },
  {
   "cell_type": "code",
   "execution_count": 7,
   "id": "2ef2f0e2-e32f-41cd-bf9d-eec01cc13975",
   "metadata": {},
   "outputs": [
    {
     "data": {
      "text/plain": [
       "'/home/calvinhathcock/Documents/College/UNCC/Fall 2022/ITSC 4155/Project/Frontend/itsc4155-capstone-cyberninjas.github.io'"
      ]
     },
     "execution_count": 7,
     "metadata": {},
     "output_type": "execute_result"
    }
   ],
   "source": [
    "os.getcwd()"
   ]
  },
  {
   "cell_type": "markdown",
   "id": "13af3bd7-0bef-483c-bf5f-c26d6c4656d7",
   "metadata": {},
   "source": [
    "# Following the existing code"
   ]
  },
  {
   "cell_type": "code",
   "execution_count": 8,
   "id": "57a94148-bd8c-426f-8e0f-dae9271a9131",
   "metadata": {},
   "outputs": [
    {
     "data": {
      "text/html": [
       "<div>\n",
       "<style scoped>\n",
       "    .dataframe tbody tr th:only-of-type {\n",
       "        vertical-align: middle;\n",
       "    }\n",
       "\n",
       "    .dataframe tbody tr th {\n",
       "        vertical-align: top;\n",
       "    }\n",
       "\n",
       "    .dataframe thead th {\n",
       "        text-align: right;\n",
       "    }\n",
       "</style>\n",
       "<table border=\"1\" class=\"dataframe\">\n",
       "  <thead>\n",
       "    <tr style=\"text-align: right;\">\n",
       "      <th></th>\n",
       "      <th>Timestamp</th>\n",
       "      <th>Name</th>\n",
       "      <th>Latitude</th>\n",
       "      <th>Longitude</th>\n",
       "      <th>Count</th>\n",
       "    </tr>\n",
       "  </thead>\n",
       "  <tbody>\n",
       "    <tr>\n",
       "      <th>0</th>\n",
       "      <td>9/28/2020 0:00</td>\n",
       "      <td>Atkins</td>\n",
       "      <td>35.305893</td>\n",
       "      <td>-80.732145</td>\n",
       "      <td>76</td>\n",
       "    </tr>\n",
       "    <tr>\n",
       "      <th>1</th>\n",
       "      <td>9/28/2020 1:00</td>\n",
       "      <td>Burson</td>\n",
       "      <td>35.307535</td>\n",
       "      <td>-80.732366</td>\n",
       "      <td>42</td>\n",
       "    </tr>\n",
       "    <tr>\n",
       "      <th>2</th>\n",
       "      <td>9/28/2020 2:00</td>\n",
       "      <td>Cato</td>\n",
       "      <td>35.305505</td>\n",
       "      <td>-80.728730</td>\n",
       "      <td>8</td>\n",
       "    </tr>\n",
       "    <tr>\n",
       "      <th>3</th>\n",
       "      <td>9/28/2020 3:00</td>\n",
       "      <td>Denny</td>\n",
       "      <td>35.305464</td>\n",
       "      <td>-80.729844</td>\n",
       "      <td>12</td>\n",
       "    </tr>\n",
       "    <tr>\n",
       "      <th>4</th>\n",
       "      <td>9/28/2020 4:00</td>\n",
       "      <td>Belk Hall</td>\n",
       "      <td>35.310418</td>\n",
       "      <td>-80.734625</td>\n",
       "      <td>20</td>\n",
       "    </tr>\n",
       "  </tbody>\n",
       "</table>\n",
       "</div>"
      ],
      "text/plain": [
       "        Timestamp       Name   Latitude  Longitude  Count\n",
       "0  9/28/2020 0:00     Atkins  35.305893 -80.732145     76\n",
       "1  9/28/2020 1:00     Burson  35.307535 -80.732366     42\n",
       "2  9/28/2020 2:00       Cato  35.305505 -80.728730      8\n",
       "3  9/28/2020 3:00      Denny  35.305464 -80.729844     12\n",
       "4  9/28/2020 4:00  Belk Hall  35.310418 -80.734625     20"
      ]
     },
     "execution_count": 8,
     "metadata": {},
     "output_type": "execute_result"
    }
   ],
   "source": [
    "base_df = pd.read_csv(\"csv/SampleLocations.csv\")\n",
    "base_df.head()"
   ]
  },
  {
   "cell_type": "code",
   "execution_count": 11,
   "id": "581e92f7-4e71-45f7-bb80-791f866f42b6",
   "metadata": {},
   "outputs": [],
   "source": [
    "base_df.Timestamp = pd.to_datetime(base_df.Timestamp)"
   ]
  },
  {
   "cell_type": "code",
   "execution_count": 13,
   "id": "990582c8-107b-41f8-be30-e49418260678",
   "metadata": {},
   "outputs": [
    {
     "data": {
      "text/plain": [
       "Timestamp    datetime64[ns]\n",
       "Name                 object\n",
       "Latitude            float64\n",
       "Longitude           float64\n",
       "Count                 int64\n",
       "dtype: object"
      ]
     },
     "execution_count": 13,
     "metadata": {},
     "output_type": "execute_result"
    }
   ],
   "source": [
    "base_df.dtypes"
   ]
  },
  {
   "cell_type": "code",
   "execution_count": 14,
   "id": "c8d1ed55-44be-4098-8990-9c0f2c7262e5",
   "metadata": {},
   "outputs": [
    {
     "data": {
      "text/plain": [
       "['2020-09-28 00:00:00',\n",
       " '2020-09-28 01:00:00',\n",
       " '2020-09-28 02:00:00',\n",
       " '2020-09-28 03:00:00',\n",
       " '2020-09-28 04:00:00',\n",
       " '2020-09-28 05:00:00',\n",
       " '2020-09-28 06:00:00',\n",
       " '2020-09-28 07:00:00',\n",
       " '2020-09-28 08:00:00',\n",
       " '2020-09-28 09:00:00',\n",
       " '2020-09-28 10:00:00',\n",
       " '2020-09-28 11:00:00',\n",
       " '2020-09-28 12:00:00']"
      ]
     },
     "execution_count": 14,
     "metadata": {},
     "output_type": "execute_result"
    }
   ],
   "source": [
    "# get time_index list\n",
    "time_index = list(base_df['Timestamp'].sort_values().astype('str').unique())\n",
    "time_index"
   ]
  },
  {
   "cell_type": "code",
   "execution_count": 15,
   "id": "3d152045-6a7a-43c3-872c-25db0284b94a",
   "metadata": {},
   "outputs": [],
   "source": [
    "# sort values\n",
    "base_df['Timestamp'] = base_df['Timestamp'].sort_values(ascending=True)"
   ]
  },
  {
   "cell_type": "code",
   "execution_count": 17,
   "id": "30931bcf-c7d2-4a23-be97-a24ae603f06c",
   "metadata": {},
   "outputs": [],
   "source": [
    "data = []"
   ]
  },
  {
   "cell_type": "code",
   "execution_count": 24,
   "id": "4cbad1a5-0e03-4220-a243-dc6272b29924",
   "metadata": {},
   "outputs": [
    {
     "name": "stdout",
     "output_type": "stream",
     "text": [
      "(Timestamp('2020-09-28 00:00:00'),    Timestamp    Name   Latitude  Longitude  Count\n",
      "0 2020-09-28  Atkins  35.305893 -80.732145     76)\n"
     ]
    }
   ],
   "source": [
    "for i in base_df.groupby('Timestamp'):\n",
    "    print(i)\n",
    "    break"
   ]
  },
  {
   "cell_type": "code",
   "execution_count": null,
   "id": "6bf753a9-c8bb-4dbb-94aa-5fdaf363fd5d",
   "metadata": {},
   "outputs": [],
   "source": [
    "for _, d in base_df.groupby('Timestamp'):\n",
    "    data.append([[row['Latitude'], row['Longitude'], row['Count']]\n",
    "                for _, row in d.iterrows()])"
   ]
  }
 ],
 "metadata": {
  "kernelspec": {
   "display_name": "Python 3 (ipykernel)",
   "language": "python",
   "name": "python3"
  },
  "language_info": {
   "codemirror_mode": {
    "name": "ipython",
    "version": 3
   },
   "file_extension": ".py",
   "mimetype": "text/x-python",
   "name": "python",
   "nbconvert_exporter": "python",
   "pygments_lexer": "ipython3",
   "version": "3.10.4"
  }
 },
 "nbformat": 4,
 "nbformat_minor": 5
}
